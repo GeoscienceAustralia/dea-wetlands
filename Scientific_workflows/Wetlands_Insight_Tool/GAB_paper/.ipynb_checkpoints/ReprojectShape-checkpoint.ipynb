{
 "cells": [
  {
   "cell_type": "code",
   "execution_count": 4,
   "id": "92626ec2-c3a5-42e1-b002-b58c42e1972c",
   "metadata": {},
   "outputs": [],
   "source": [
    "import geopandas as gpd\n",
    "import fiona"
   ]
  },
  {
   "cell_type": "code",
   "execution_count": 7,
   "id": "8301e886-615d-4f0c-9aa3-dfd26082ae5f",
   "metadata": {},
   "outputs": [],
   "source": [
    "GAB = gpd.read_file('NSW_modelsv2.shp')"
   ]
  },
  {
   "cell_type": "code",
   "execution_count": 8,
   "id": "c7540b16-26c0-4efa-a987-64e5abbd54fb",
   "metadata": {},
   "outputs": [],
   "source": [
    "GAB3577 = GAB.to_crs(epsg=3577)"
   ]
  },
  {
   "cell_type": "code",
   "execution_count": 10,
   "id": "028ea228-b2e5-4d15-9ee8-f0cd88af0c8c",
   "metadata": {},
   "outputs": [
    {
     "data": {
      "text/plain": [
       "<Projected CRS: EPSG:3577>\n",
       "Name: GDA94 / Australian Albers\n",
       "Axis Info [cartesian]:\n",
       "- E[east]: Easting (metre)\n",
       "- N[north]: Northing (metre)\n",
       "Area of Use:\n",
       "- name: Australia - Australian Capital Territory; New South Wales; Northern Territory; Queensland; South Australia; Tasmania; Western Australia; Victoria.\n",
       "- bounds: (112.85, -43.7, 153.69, -9.86)\n",
       "Coordinate Operation:\n",
       "- name: Australian Albers\n",
       "- method: Albers Equal Area\n",
       "Datum: Geocentric Datum of Australia 1994\n",
       "- Ellipsoid: GRS 1980\n",
       "- Prime Meridian: Greenwich"
      ]
     },
     "execution_count": 10,
     "metadata": {},
     "output_type": "execute_result"
    }
   ],
   "source": [
    "GAB3577.crs"
   ]
  },
  {
   "cell_type": "code",
   "execution_count": 11,
   "id": "be375fe0-483d-4e5f-b9e1-31194cb3eec3",
   "metadata": {},
   "outputs": [],
   "source": [
    "GAB3577.to_file('NSWmodelsv2_3577.shp')"
   ]
  },
  {
   "cell_type": "code",
   "execution_count": 12,
   "id": "4919d76f-a7e8-4cf3-bd92-5da95d56bfc8",
   "metadata": {},
   "outputs": [
    {
     "data": {
      "text/html": [
       "<div>\n",
       "<style scoped>\n",
       "    .dataframe tbody tr th:only-of-type {\n",
       "        vertical-align: middle;\n",
       "    }\n",
       "\n",
       "    .dataframe tbody tr th {\n",
       "        vertical-align: top;\n",
       "    }\n",
       "\n",
       "    .dataframe thead th {\n",
       "        text-align: right;\n",
       "    }\n",
       "</style>\n",
       "<table border=\"1\" class=\"dataframe\">\n",
       "  <thead>\n",
       "    <tr style=\"text-align: right;\">\n",
       "      <th></th>\n",
       "      <th>OBJECTID_1</th>\n",
       "      <th>OBJECTID</th>\n",
       "      <th>WATER_SHAR</th>\n",
       "      <th>WATER_SOUR</th>\n",
       "      <th>COMMENTS</th>\n",
       "      <th>MANAGEMENT</th>\n",
       "      <th>PLAN_STATU</th>\n",
       "      <th>WS_LEVEL</th>\n",
       "      <th>START_DATE</th>\n",
       "      <th>END_DATE</th>\n",
       "      <th>...</th>\n",
       "      <th>ZONE_NO</th>\n",
       "      <th>ZONE_NAME</th>\n",
       "      <th>GMA_TYPE_1</th>\n",
       "      <th>PROVINCES</th>\n",
       "      <th>PLAN_AREA_</th>\n",
       "      <th>Shape_Leng</th>\n",
       "      <th>Shape_Area</th>\n",
       "      <th>BUFF_DIST</th>\n",
       "      <th>ORIG_FID</th>\n",
       "      <th>geometry</th>\n",
       "    </tr>\n",
       "  </thead>\n",
       "  <tbody>\n",
       "    <tr>\n",
       "      <th>0</th>\n",
       "      <td>1</td>\n",
       "      <td>1000</td>\n",
       "      <td>Gwydir Alluvial Groundwater Sources 2020</td>\n",
       "      <td>Lower Gwydir Groundwater Source</td>\n",
       "      <td>None</td>\n",
       "      <td>None</td>\n",
       "      <td>Commenced</td>\n",
       "      <td>1</td>\n",
       "      <td>2020-07-01</td>\n",
       "      <td>2030-06-30</td>\n",
       "      <td>...</td>\n",
       "      <td>None</td>\n",
       "      <td>None</td>\n",
       "      <td>None</td>\n",
       "      <td>None</td>\n",
       "      <td>None</td>\n",
       "      <td>2.093778</td>\n",
       "      <td>0.234039</td>\n",
       "      <td>25.0</td>\n",
       "      <td>0</td>\n",
       "      <td>POLYGON ((1766313.595 -3331368.962, 1766377.68...</td>\n",
       "    </tr>\n",
       "  </tbody>\n",
       "</table>\n",
       "<p>1 rows × 27 columns</p>\n",
       "</div>"
      ],
      "text/plain": [
       "   OBJECTID_1  OBJECTID                                WATER_SHAR  \\\n",
       "0           1      1000  Gwydir Alluvial Groundwater Sources 2020   \n",
       "\n",
       "                        WATER_SOUR COMMENTS MANAGEMENT PLAN_STATU  WS_LEVEL  \\\n",
       "0  Lower Gwydir Groundwater Source     None       None  Commenced         1   \n",
       "\n",
       "   START_DATE    END_DATE  ... ZONE_NO  ZONE_NAME  GMA_TYPE_1  PROVINCES  \\\n",
       "0  2020-07-01  2030-06-30  ...    None       None        None       None   \n",
       "\n",
       "   PLAN_AREA_ Shape_Leng Shape_Area BUFF_DIST ORIG_FID  \\\n",
       "0        None   2.093778   0.234039      25.0        0   \n",
       "\n",
       "                                            geometry  \n",
       "0  POLYGON ((1766313.595 -3331368.962, 1766377.68...  \n",
       "\n",
       "[1 rows x 27 columns]"
      ]
     },
     "execution_count": 12,
     "metadata": {},
     "output_type": "execute_result"
    }
   ],
   "source": [
    "GAB3577\n"
   ]
  },
  {
   "cell_type": "code",
   "execution_count": null,
   "id": "ef7a5075-01ef-4265-8759-ff1f84529e20",
   "metadata": {},
   "outputs": [],
   "source": []
  }
 ],
 "metadata": {
  "kernelspec": {
   "display_name": "Python 3 (ipykernel)",
   "language": "python",
   "name": "python3"
  },
  "language_info": {
   "codemirror_mode": {
    "name": "ipython",
    "version": 3
   },
   "file_extension": ".py",
   "mimetype": "text/x-python",
   "name": "python",
   "nbconvert_exporter": "python",
   "pygments_lexer": "ipython3",
   "version": "3.8.10"
  },
  "widgets": {
   "application/vnd.jupyter.widget-state+json": {
    "state": {},
    "version_major": 2,
    "version_minor": 0
   }
  }
 },
 "nbformat": 4,
 "nbformat_minor": 5
}
